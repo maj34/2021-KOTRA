{
 "cells": [
  {
   "cell_type": "code",
   "execution_count": 47,
   "metadata": {},
   "outputs": [],
   "source": [
    "# Data Handling\n",
    "import pandas as pd\n",
    "import numpy as np\n",
    "from tqdm import tqdm\n",
    "import warnings; warnings.filterwarnings('ignore')\n",
    "import joblib\n",
    "import datetime\n",
    "import os\n",
    "\n",
    "# Visualization\n",
    "import matplotlib.pylab as plt\n",
    "from matplotlib import font_manager, rc\n",
    "import seaborn as sns\n",
    "import klib\n",
    "%matplotlib inline\n",
    "\n",
    "# Preprocessing & Feature Engineering\n",
    "from sklearn.model_selection import train_test_split\n",
    "from sklearn.decomposition import PCA\n",
    "from sklearn.preprocessing import StandardScaler, MinMaxScaler\n",
    "from sklearn.preprocessing import RobustScaler, PowerTransformer\n",
    "from sklearn.feature_selection import SelectPercentile\n",
    "\n",
    "# Modeling\n",
    "from sklearn.linear_model import Ridge, Lasso, ElasticNet\n",
    "from sklearn.ensemble import ExtraTreesRegressor\n",
    "from sklearn.ensemble import RandomForestRegressor\n",
    "from sklearn.ensemble import GradientBoostingRegressor\n",
    "from xgboost import XGBRegressor\n",
    "from lightgbm import LGBMRegressor\n",
    "from catboost import CatBoostRegressor\n",
    "from sklearn.ensemble import VotingRegressor\n",
    "from vecstack import StackingTransformer\n",
    "from vecstack import stacking\n",
    "from itertools import combinations\n",
    "seed = 43\n",
    "\n",
    "# CV\n",
    "from sklearn.model_selection import cross_val_score\n",
    "from sklearn.model_selection import KFold\n",
    "kfold = KFold(n_splits=4, shuffle=True, random_state=seed)\n",
    "\n",
    "# Hyperparameter Optimization\n",
    "from bayes_opt import BayesianOptimization\n",
    "\n",
    "# Evaluation\n",
    "from sklearn.metrics import mean_squared_error\n",
    "from sklearn.metrics import r2_score\n",
    "from sklearn.metrics import mean_absolute_error\n",
    "from sklearn.metrics import mean_squared_log_error\n",
    "from scipy.stats.mstats import gmean"
   ]
  },
  {
   "cell_type": "markdown",
   "metadata": {},
   "source": [
    "<font color='CC3D3D'>\n",
    "\n",
    "# Ch.4 Modeling\n"
   ]
  },
  {
   "cell_type": "markdown",
   "metadata": {},
   "source": [
    "<font color='green'>\n",
    "\n",
    "## Data "
   ]
  },
  {
   "cell_type": "code",
   "execution_count": 3,
   "metadata": {},
   "outputs": [],
   "source": [
    "train = pd.read_csv('./data/train_After_prepro_week4.csv')\n",
    "test = pd.read_csv('./data/test_After_prepro_week4.csv')\n",
    "y_target = pd.read_csv('./data/y_target.csv')\n",
    "y_target_log = np.log1p(y_target)"
   ]
  },
  {
   "cell_type": "code",
   "execution_count": 4,
   "metadata": {},
   "outputs": [],
   "source": [
    "# data split \n",
    "X_train, X_valid, y_train, y_valid = train_test_split(train, y_target_log, test_size=0.2,random_state = seed)"
   ]
  },
  {
   "cell_type": "markdown",
   "metadata": {},
   "source": [
    "<font color='green'>\n",
    "\n",
    "## Basic Model\n",
    " - 단일 모델 기본 성능 확인"
   ]
  },
  {
   "cell_type": "code",
   "execution_count": 5,
   "metadata": {},
   "outputs": [],
   "source": [
    "extra_reg = ExtraTreesRegressor(random_state=seed, n_jobs=-1)\n",
    "xgb_reg = XGBRegressor(random_state=seed, n_jobs=-1)\n",
    "lgb_reg = LGBMRegressor(random_state=seed, n_jobs=-1)\n",
    "cat_reg = CatBoostRegressor(random_state=seed, verbose=False)"
   ]
  },
  {
   "cell_type": "code",
   "execution_count": 6,
   "metadata": {},
   "outputs": [],
   "source": [
    "def get_model_cv_prediction(model, feature_data, y_target):\n",
    "    neg_mse_scores = cross_val_score(model, feature_data, y_target, scoring='neg_mean_squared_error', cv=4)\n",
    "    rmse_scores = np.sqrt(-1 * neg_mse_scores)\n",
    "    avg_rmse = np.mean(rmse_scores)\n",
    "    print(f'{model.__class__.__name__} 모델의 평균 RMSE: {avg_rmse:.3f}')"
   ]
  },
  {
   "cell_type": "code",
   "execution_count": 7,
   "metadata": {
    "scrolled": true
   },
   "outputs": [
    {
     "name": "stdout",
     "output_type": "stream",
     "text": [
      "ExtraTreesRegressor 모델의 평균 RMSE: 2.075\n",
      "XGBRegressor 모델의 평균 RMSE: 2.037\n",
      "LGBMRegressor 모델의 평균 RMSE: 1.959\n",
      "CatBoostRegressor 모델의 평균 RMSE: 1.927\n"
     ]
    }
   ],
   "source": [
    "models = [extra_reg, xgb_reg, lgb_reg, cat_reg]\n",
    "for model in models:\n",
    "    get_model_cv_prediction(model, X_train, y_train)"
   ]
  },
  {
   "cell_type": "markdown",
   "metadata": {},
   "source": [
    "<font color='green'>\n",
    "\n",
    "## Bayesian Optimization\n",
    " - 단일 모델 튜닝 성능 확인"
   ]
  },
  {
   "cell_type": "code",
   "execution_count": 8,
   "metadata": {},
   "outputs": [],
   "source": [
    "BO_tuned_regs = []"
   ]
  },
  {
   "cell_type": "markdown",
   "metadata": {},
   "source": [
    "#### ExtraTreesTregressor"
   ]
  },
  {
   "cell_type": "code",
   "execution_count": 9,
   "metadata": {
    "id": "zZQcCfNs7jnp"
   },
   "outputs": [],
   "source": [
    "pbounds = { 'n_estimators': (100, 500),\n",
    "            'max_depth': (10,30),    \n",
    "            'max_features': (0.8, 1.0),\n",
    "            'min_samples_split': (2, 20), # 노드를 분할하기 위한 최소한의 데이터 수\n",
    "            'min_samples_leaf': (1, 10)   # 리프노드가 되기 위한 최소한의 샘플 데이터 수\n",
    "            }\n",
    "\n",
    "def extra_opt(n_estimators, max_depth, max_features, min_samples_split, min_samples_leaf):\n",
    "\n",
    "    params = {\n",
    "        'n_estimators': int(round(n_estimators)),\n",
    "        'max_depth': int(round(max_depth)),\n",
    "        'max_features' : max_features,\n",
    "        'min_samples_leaf': int(round(min_samples_leaf)),\n",
    "        'min_samples_split': int(round(min_samples_split)),\n",
    "        'n_jobs' : -1,\n",
    "        'random_state' : seed \n",
    "    }\n",
    "    \n",
    "    extra = ExtraTreesRegressor(**params)\n",
    "\n",
    "    neg_mse_scores = cross_val_score(extra, X_train, y_train, scoring='neg_mean_squared_error', cv=kfold, n_jobs=-1)\n",
    "    rmse_scores = np.sqrt(-1 * neg_mse_scores)\n",
    "    avg_rmse = np.mean(rmse_scores)\n",
    "    \n",
    "    return - (avg_rmse)\n",
    "\n",
    "BO_extra = BayesianOptimization(f = extra_opt, pbounds = pbounds, random_state=seed) "
   ]
  },
  {
   "cell_type": "code",
   "execution_count": 10,
   "metadata": {
    "colab": {
     "base_uri": "https://localhost:8080/",
     "height": 701
    },
    "id": "DLVvpBoL7jnx",
    "outputId": "6e3e1a67-7fd1-40f5-9f1f-b7c3ad4a38eb",
    "scrolled": false
   },
   "outputs": [
    {
     "name": "stdout",
     "output_type": "stream",
     "text": [
      "|   iter    |  target   | max_depth | max_fe... | min_sa... | min_sa... | n_esti... |\n",
      "-------------------------------------------------------------------------------------\n",
      "| \u001b[0m 1       \u001b[0m | \u001b[0m-2.128   \u001b[0m | \u001b[0m 12.3    \u001b[0m | \u001b[0m 0.9218  \u001b[0m | \u001b[0m 2.201   \u001b[0m | \u001b[0m 6.331   \u001b[0m | \u001b[0m 230.9   \u001b[0m |\n",
      "| \u001b[95m 2       \u001b[0m | \u001b[95m-2.083   \u001b[0m | \u001b[95m 27.18   \u001b[0m | \u001b[95m 0.9332  \u001b[0m | \u001b[95m 5.87    \u001b[0m | \u001b[95m 2.522   \u001b[0m | \u001b[95m 393.5   \u001b[0m |\n",
      "| \u001b[95m 3       \u001b[0m | \u001b[95m-2.079   \u001b[0m | \u001b[95m 17.9    \u001b[0m | \u001b[95m 0.9604  \u001b[0m | \u001b[95m 3.29    \u001b[0m | \u001b[95m 3.024   \u001b[0m | \u001b[95m 446.7   \u001b[0m |\n",
      "| \u001b[0m 4       \u001b[0m | \u001b[0m-2.103   \u001b[0m | \u001b[0m 14.42   \u001b[0m | \u001b[0m 0.881   \u001b[0m | \u001b[0m 3.845   \u001b[0m | \u001b[0m 3.38    \u001b[0m | \u001b[0m 437.3   \u001b[0m |\n",
      "| \u001b[0m 5       \u001b[0m | \u001b[0m-2.08    \u001b[0m | \u001b[0m 26.98   \u001b[0m | \u001b[0m 0.9943  \u001b[0m | \u001b[0m 4.468   \u001b[0m | \u001b[0m 19.18   \u001b[0m | \u001b[0m 278.3   \u001b[0m |\n",
      "| \u001b[0m 6       \u001b[0m | \u001b[0m-2.105   \u001b[0m | \u001b[0m 23.39   \u001b[0m | \u001b[0m 0.8165  \u001b[0m | \u001b[0m 9.074   \u001b[0m | \u001b[0m 7.364   \u001b[0m | \u001b[0m 204.9   \u001b[0m |\n",
      "| \u001b[0m 7       \u001b[0m | \u001b[0m-2.15    \u001b[0m | \u001b[0m 10.1    \u001b[0m | \u001b[0m 0.9086  \u001b[0m | \u001b[0m 5.28    \u001b[0m | \u001b[0m 13.45   \u001b[0m | \u001b[0m 491.3   \u001b[0m |\n",
      "| \u001b[0m 8       \u001b[0m | \u001b[0m-2.084   \u001b[0m | \u001b[0m 28.17   \u001b[0m | \u001b[0m 0.982   \u001b[0m | \u001b[0m 5.727   \u001b[0m | \u001b[0m 3.872   \u001b[0m | \u001b[0m 172.4   \u001b[0m |\n",
      "| \u001b[0m 9       \u001b[0m | \u001b[0m-2.102   \u001b[0m | \u001b[0m 29.06   \u001b[0m | \u001b[0m 0.8824  \u001b[0m | \u001b[0m 8.785   \u001b[0m | \u001b[0m 14.1    \u001b[0m | \u001b[0m 351.5   \u001b[0m |\n",
      "| \u001b[0m 10      \u001b[0m | \u001b[0m-2.088   \u001b[0m | \u001b[0m 15.51   \u001b[0m | \u001b[0m 0.9793  \u001b[0m | \u001b[0m 2.862   \u001b[0m | \u001b[0m 9.279   \u001b[0m | \u001b[0m 497.4   \u001b[0m |\n",
      "| \u001b[0m 11      \u001b[0m | \u001b[0m-2.084   \u001b[0m | \u001b[0m 24.71   \u001b[0m | \u001b[0m 0.889   \u001b[0m | \u001b[0m 6.046   \u001b[0m | \u001b[0m 9.403   \u001b[0m | \u001b[0m 390.8   \u001b[0m |\n",
      "| \u001b[0m 12      \u001b[0m | \u001b[0m-2.096   \u001b[0m | \u001b[0m 17.98   \u001b[0m | \u001b[0m 0.934   \u001b[0m | \u001b[0m 7.342   \u001b[0m | \u001b[0m 12.97   \u001b[0m | \u001b[0m 316.0   \u001b[0m |\n",
      "| \u001b[0m 13      \u001b[0m | \u001b[0m-2.113   \u001b[0m | \u001b[0m 14.12   \u001b[0m | \u001b[0m 0.8398  \u001b[0m | \u001b[0m 8.162   \u001b[0m | \u001b[0m 7.226   \u001b[0m | \u001b[0m 362.4   \u001b[0m |\n",
      "| \u001b[0m 14      \u001b[0m | \u001b[0m-2.096   \u001b[0m | \u001b[0m 15.99   \u001b[0m | \u001b[0m 0.8289  \u001b[0m | \u001b[0m 4.636   \u001b[0m | \u001b[0m 7.585   \u001b[0m | \u001b[0m 197.4   \u001b[0m |\n",
      "| \u001b[0m 15      \u001b[0m | \u001b[0m-2.099   \u001b[0m | \u001b[0m 21.76   \u001b[0m | \u001b[0m 0.8491  \u001b[0m | \u001b[0m 7.73    \u001b[0m | \u001b[0m 14.96   \u001b[0m | \u001b[0m 378.1   \u001b[0m |\n",
      "| \u001b[0m 16      \u001b[0m | \u001b[0m-2.125   \u001b[0m | \u001b[0m 12.05   \u001b[0m | \u001b[0m 0.9887  \u001b[0m | \u001b[0m 5.53    \u001b[0m | \u001b[0m 18.19   \u001b[0m | \u001b[0m 179.4   \u001b[0m |\n",
      "| \u001b[0m 17      \u001b[0m | \u001b[0m-2.107   \u001b[0m | \u001b[0m 21.89   \u001b[0m | \u001b[0m 0.9931  \u001b[0m | \u001b[0m 9.988   \u001b[0m | \u001b[0m 2.435   \u001b[0m | \u001b[0m 292.5   \u001b[0m |\n",
      "| \u001b[0m 18      \u001b[0m | \u001b[0m-2.098   \u001b[0m | \u001b[0m 15.83   \u001b[0m | \u001b[0m 0.8127  \u001b[0m | \u001b[0m 6.127   \u001b[0m | \u001b[0m 2.091   \u001b[0m | \u001b[0m 344.5   \u001b[0m |\n",
      "| \u001b[0m 19      \u001b[0m | \u001b[0m-2.108   \u001b[0m | \u001b[0m 27.4    \u001b[0m | \u001b[0m 0.9767  \u001b[0m | \u001b[0m 9.589   \u001b[0m | \u001b[0m 15.32   \u001b[0m | \u001b[0m 173.9   \u001b[0m |\n",
      "| \u001b[0m 20      \u001b[0m | \u001b[0m-2.08    \u001b[0m | \u001b[0m 18.69   \u001b[0m | \u001b[0m 0.9772  \u001b[0m | \u001b[0m 3.295   \u001b[0m | \u001b[0m 9.98    \u001b[0m | \u001b[0m 346.8   \u001b[0m |\n",
      "| \u001b[0m 21      \u001b[0m | \u001b[0m-2.081   \u001b[0m | \u001b[0m 17.97   \u001b[0m | \u001b[0m 0.9846  \u001b[0m | \u001b[0m 2.687   \u001b[0m | \u001b[0m 3.077   \u001b[0m | \u001b[0m 445.4   \u001b[0m |\n",
      "| \u001b[95m 22      \u001b[0m | \u001b[95m-2.073   \u001b[0m | \u001b[95m 25.89   \u001b[0m | \u001b[95m 0.9233  \u001b[0m | \u001b[95m 3.995   \u001b[0m | \u001b[95m 7.407   \u001b[0m | \u001b[95m 396.7   \u001b[0m |\n",
      "| \u001b[0m 23      \u001b[0m | \u001b[0m-2.101   \u001b[0m | \u001b[0m 21.61   \u001b[0m | \u001b[0m 0.9705  \u001b[0m | \u001b[0m 8.807   \u001b[0m | \u001b[0m 6.445   \u001b[0m | \u001b[0m 397.6   \u001b[0m |\n",
      "| \u001b[95m 24      \u001b[0m | \u001b[95m-2.073   \u001b[0m | \u001b[95m 29.07   \u001b[0m | \u001b[95m 0.9296  \u001b[0m | \u001b[95m 1.0     \u001b[0m | \u001b[95m 7.461   \u001b[0m | \u001b[95m 393.7   \u001b[0m |\n",
      "| \u001b[95m 25      \u001b[0m | \u001b[95m-2.069   \u001b[0m | \u001b[95m 29.97   \u001b[0m | \u001b[95m 0.8594  \u001b[0m | \u001b[95m 3.187   \u001b[0m | \u001b[95m 12.11   \u001b[0m | \u001b[95m 393.9   \u001b[0m |\n",
      "| \u001b[95m 26      \u001b[0m | \u001b[95m-2.067   \u001b[0m | \u001b[95m 28.94   \u001b[0m | \u001b[95m 0.8745  \u001b[0m | \u001b[95m 2.328   \u001b[0m | \u001b[95m 10.59   \u001b[0m | \u001b[95m 400.5   \u001b[0m |\n",
      "| \u001b[0m 27      \u001b[0m | \u001b[0m-2.077   \u001b[0m | \u001b[0m 26.69   \u001b[0m | \u001b[0m 0.9152  \u001b[0m | \u001b[0m 2.975   \u001b[0m | \u001b[0m 19.25   \u001b[0m | \u001b[0m 403.1   \u001b[0m |\n",
      "| \u001b[0m 28      \u001b[0m | \u001b[0m-2.075   \u001b[0m | \u001b[0m 23.75   \u001b[0m | \u001b[0m 1.0     \u001b[0m | \u001b[0m 1.0     \u001b[0m | \u001b[0m 2.861   \u001b[0m | \u001b[0m 500.0   \u001b[0m |\n",
      "| \u001b[0m 29      \u001b[0m | \u001b[0m-2.072   \u001b[0m | \u001b[0m 30.0    \u001b[0m | \u001b[0m 0.8     \u001b[0m | \u001b[0m 1.0     \u001b[0m | \u001b[0m 2.0     \u001b[0m | \u001b[0m 407.1   \u001b[0m |\n",
      "| \u001b[0m 30      \u001b[0m | \u001b[0m-2.072   \u001b[0m | \u001b[0m 29.59   \u001b[0m | \u001b[0m 0.9272  \u001b[0m | \u001b[0m 3.005   \u001b[0m | \u001b[0m 12.73   \u001b[0m | \u001b[0m 412.7   \u001b[0m |\n",
      "| \u001b[0m 31      \u001b[0m | \u001b[0m-2.071   \u001b[0m | \u001b[0m 30.0    \u001b[0m | \u001b[0m 1.0     \u001b[0m | \u001b[0m 1.0     \u001b[0m | \u001b[0m 3.183   \u001b[0m | \u001b[0m 452.9   \u001b[0m |\n",
      "| \u001b[0m 32      \u001b[0m | \u001b[0m-2.075   \u001b[0m | \u001b[0m 25.44   \u001b[0m | \u001b[0m 1.0     \u001b[0m | \u001b[0m 1.0     \u001b[0m | \u001b[0m 14.73   \u001b[0m | \u001b[0m 452.6   \u001b[0m |\n",
      "| \u001b[0m 33      \u001b[0m | \u001b[0m-2.11    \u001b[0m | \u001b[0m 30.0    \u001b[0m | \u001b[0m 0.8     \u001b[0m | \u001b[0m 10.0    \u001b[0m | \u001b[0m 8.276   \u001b[0m | \u001b[0m 447.1   \u001b[0m |\n",
      "| \u001b[0m 34      \u001b[0m | \u001b[0m-2.077   \u001b[0m | \u001b[0m 22.12   \u001b[0m | \u001b[0m 1.0     \u001b[0m | \u001b[0m 1.0     \u001b[0m | \u001b[0m 4.451   \u001b[0m | \u001b[0m 460.5   \u001b[0m |\n",
      "| \u001b[0m 35      \u001b[0m | \u001b[0m-2.074   \u001b[0m | \u001b[0m 30.0    \u001b[0m | \u001b[0m 1.0     \u001b[0m | \u001b[0m 1.0     \u001b[0m | \u001b[0m 14.06   \u001b[0m | \u001b[0m 500.0   \u001b[0m |\n",
      "| \u001b[0m 36      \u001b[0m | \u001b[0m-2.105   \u001b[0m | \u001b[0m 30.0    \u001b[0m | \u001b[0m 1.0     \u001b[0m | \u001b[0m 10.0    \u001b[0m | \u001b[0m 6.713   \u001b[0m | \u001b[0m 500.0   \u001b[0m |\n",
      "| \u001b[0m 37      \u001b[0m | \u001b[0m-2.124   \u001b[0m | \u001b[0m 12.78   \u001b[0m | \u001b[0m 1.0     \u001b[0m | \u001b[0m 1.0     \u001b[0m | \u001b[0m 14.19   \u001b[0m | \u001b[0m 454.7   \u001b[0m |\n",
      "| \u001b[0m 38      \u001b[0m | \u001b[0m-2.073   \u001b[0m | \u001b[0m 29.12   \u001b[0m | \u001b[0m 0.8945  \u001b[0m | \u001b[0m 3.431   \u001b[0m | \u001b[0m 14.1    \u001b[0m | \u001b[0m 461.4   \u001b[0m |\n",
      "| \u001b[0m 39      \u001b[0m | \u001b[0m-2.071   \u001b[0m | \u001b[0m 29.88   \u001b[0m | \u001b[0m 0.8188  \u001b[0m | \u001b[0m 3.678   \u001b[0m | \u001b[0m 2.127   \u001b[0m | \u001b[0m 462.3   \u001b[0m |\n",
      "| \u001b[0m 40      \u001b[0m | \u001b[0m-2.071   \u001b[0m | \u001b[0m 30.0    \u001b[0m | \u001b[0m 1.0     \u001b[0m | \u001b[0m 1.0     \u001b[0m | \u001b[0m 7.634   \u001b[0m | \u001b[0m 472.4   \u001b[0m |\n",
      "=====================================================================================\n"
     ]
    }
   ],
   "source": [
    "BO_extra.maximize(init_points=20, n_iter=20)"
   ]
  },
  {
   "cell_type": "code",
   "execution_count": 11,
   "metadata": {
    "colab": {
     "base_uri": "https://localhost:8080/",
     "height": 107
    },
    "id": "eQSXMkeD7jnz",
    "outputId": "efabe6d4-7771-4486-a7e3-fc6ed4eff6b9"
   },
   "outputs": [
    {
     "data": {
      "text/plain": [
       "{'max_depth': 29,\n",
       " 'max_features': 0.8744500155409993,\n",
       " 'min_samples_leaf': 2,\n",
       " 'min_samples_split': 11,\n",
       " 'n_estimators': 401,\n",
       " 'n_jobs': -1,\n",
       " 'random_state': 43}"
      ]
     },
     "execution_count": 11,
     "metadata": {},
     "output_type": "execute_result"
    }
   ],
   "source": [
    "# BO_rf.res  # 모든 성능 들어가있음\n",
    "BO_extra.max\n",
    "\n",
    "max_params = BO_extra.max['params']\n",
    "\n",
    "max_params['n_estimators'] = int(round(max_params['n_estimators']))\n",
    "max_params['max_depth'] = int(round(max_params['max_depth']))\n",
    "max_params['min_samples_leaf'] = int(round(max_params['min_samples_leaf']))\n",
    "max_params['min_samples_split'] = int(round(max_params['min_samples_split']))\n",
    "max_params['n_jobs'] = -1\n",
    "max_params['random_state'] = seed\n",
    "\n",
    "max_params"
   ]
  },
  {
   "cell_type": "code",
   "execution_count": 12,
   "metadata": {},
   "outputs": [
    {
     "name": "stdout",
     "output_type": "stream",
     "text": [
      "모델의 평균 성능:  2.067\n"
     ]
    }
   ],
   "source": [
    "extra_reg = ExtraTreesRegressor(**max_params)\n",
    "rmse_scores = []\n",
    "for iter_count, (train_idx, valid_idx) in enumerate(kfold.split(X_train, y_train)):\n",
    "    \n",
    "    X_tra, X_val = X_train.values[train_idx], X_train.values[valid_idx]\n",
    "    y_tra, y_val = y_train.values[train_idx], y_train.values[valid_idx]\n",
    "    \n",
    "    extra_reg.fit(X_tra, y_tra)\n",
    "    \n",
    "    pred = extra_reg.predict(X_val)\n",
    "    rmse_score = np.sqrt(mean_squared_error(y_val, pred))\n",
    "    rmse_scores.append(rmse_score)\n",
    "print(f'모델의 평균 성능:  {np.mean(rmse_scores):.3f}')\n",
    "BO_tuned_regs.append((extra_reg.__class__.__name__, extra_reg, np.mean(rmse_scores)))\n"
   ]
  },
  {
   "cell_type": "markdown",
   "metadata": {},
   "source": [
    "#### XGBRegressor"
   ]
  },
  {
   "cell_type": "code",
   "execution_count": 13,
   "metadata": {},
   "outputs": [],
   "source": [
    "pbounds = {'learning_rate': (0.01, 0.1),\n",
    "            'n_estimators': (90,150),\n",
    "            'max_depth': (3, 10),   \n",
    "            'subsample': (0.8, 1),\n",
    "            'colsample_bytree' : (0.7, 1),\n",
    "            'min_child_weight': (1,7),\n",
    "            'gamma': (0, 5) \n",
    "            }\n",
    "\n",
    "def xgb_opt(learning_rate, n_estimators, max_depth, subsample, colsample_bytree, min_child_weight, gamma):\n",
    "    \n",
    "    params = {\n",
    "        'learning_rate': learning_rate,\n",
    "        'n_estimators' : int(round(n_estimators)),\n",
    "        'max_depth' : int(round(max_depth)),\n",
    "        'subsample': subsample,\n",
    "        'colsample_bytree': colsample_bytree,\n",
    "        'min_child_weight': int(round(min_child_weight)),\n",
    "        'gamma': gamma,\n",
    "        'n_jobs' : -1,\n",
    "#        'obejective' : 'binary:logistic',\n",
    "        'random_state' : seed\n",
    "    }\n",
    "\n",
    "    xgb_reg = XGBRegressor(**params)\n",
    "    \n",
    "    nmse_score = cross_val_score(xgb_reg, X_train, y_train,scoring = 'neg_mean_squared_error', cv=kfold, n_jobs=-1)\n",
    "    rmse_score = np.sqrt(-nmse_score)\n",
    "    avg_rmse = np.mean(rmse_score)\n",
    "    \n",
    "    return -avg_rmse\n",
    "\n",
    "BO_xgb = BayesianOptimization(f = xgb_opt, pbounds = pbounds, verbose=2, random_state=seed)"
   ]
  },
  {
   "cell_type": "code",
   "execution_count": 14,
   "metadata": {
    "scrolled": false
   },
   "outputs": [
    {
     "name": "stdout",
     "output_type": "stream",
     "text": [
      "|   iter    |  target   | colsam... |   gamma   | learni... | max_depth | min_ch... | n_esti... | subsample |\n",
      "-------------------------------------------------------------------------------------------------------------\n",
      "| \u001b[0m 1       \u001b[0m | \u001b[0m-2.159   \u001b[0m | \u001b[0m 0.7345  \u001b[0m | \u001b[0m 3.045   \u001b[0m | \u001b[0m 0.02201 \u001b[0m | \u001b[0m 4.684   \u001b[0m | \u001b[0m 2.963   \u001b[0m | \u001b[0m 141.5   \u001b[0m | \u001b[0m 0.9332  \u001b[0m |\n",
      "| \u001b[95m 2       \u001b[0m | \u001b[95m-1.974   \u001b[0m | \u001b[95m 0.8623  \u001b[0m | \u001b[95m 0.1451  \u001b[0m | \u001b[95m 0.07604 \u001b[0m | \u001b[95m 5.765   \u001b[0m | \u001b[95m 5.812   \u001b[0m | \u001b[95m 105.3   \u001b[0m | \u001b[95m 0.8114  \u001b[0m |\n",
      "| \u001b[0m 3       \u001b[0m | \u001b[0m-2.003   \u001b[0m | \u001b[0m 0.96    \u001b[0m | \u001b[0m 1.105   \u001b[0m | \u001b[0m 0.04645 \u001b[0m | \u001b[0m 5.213   \u001b[0m | \u001b[0m 1.46    \u001b[0m | \u001b[0m 140.6   \u001b[0m | \u001b[0m 0.9698  \u001b[0m |\n",
      "| \u001b[95m 4       \u001b[0m | \u001b[95m-1.971   \u001b[0m | \u001b[95m 0.9914  \u001b[0m | \u001b[95m 1.927   \u001b[0m | \u001b[95m 0.0959  \u001b[0m | \u001b[95m 6.12    \u001b[0m | \u001b[95m 5.018   \u001b[0m | \u001b[95m 94.95   \u001b[0m | \u001b[95m 0.9794  \u001b[0m |\n",
      "| \u001b[0m 5       \u001b[0m | \u001b[0m-3.881   \u001b[0m | \u001b[0m 0.7894  \u001b[0m | \u001b[0m 1.312   \u001b[0m | \u001b[0m 0.01046 \u001b[0m | \u001b[0m 6.802   \u001b[0m | \u001b[0m 3.854   \u001b[0m | \u001b[0m 128.2   \u001b[0m | \u001b[0m 0.9956  \u001b[0m |\n",
      "| \u001b[0m 6       \u001b[0m | \u001b[0m-2.017   \u001b[0m | \u001b[0m 0.9726  \u001b[0m | \u001b[0m 4.551   \u001b[0m | \u001b[0m 0.05727 \u001b[0m | \u001b[0m 3.728   \u001b[0m | \u001b[0m 2.085   \u001b[0m | \u001b[0m 147.2   \u001b[0m | \u001b[0m 0.8824  \u001b[0m |\n",
      "| \u001b[0m 7       \u001b[0m | \u001b[0m-1.997   \u001b[0m | \u001b[0m 0.9595  \u001b[0m | \u001b[0m 3.361   \u001b[0m | \u001b[0m 0.06659 \u001b[0m | \u001b[0m 4.929   \u001b[0m | \u001b[0m 6.38    \u001b[0m | \u001b[0m 102.4   \u001b[0m | \u001b[0m 0.8809  \u001b[0m |\n",
      "| \u001b[95m 8       \u001b[0m | \u001b[95m-1.963   \u001b[0m | \u001b[95m 0.9981  \u001b[0m | \u001b[95m 3.679   \u001b[0m | \u001b[95m 0.05006 \u001b[0m | \u001b[95m 6.925   \u001b[0m | \u001b[95m 3.468   \u001b[0m | \u001b[95m 133.6   \u001b[0m | \u001b[95m 0.8798  \u001b[0m |\n",
      "| \u001b[0m 9       \u001b[0m | \u001b[0m-1.977   \u001b[0m | \u001b[0m 0.901   \u001b[0m | \u001b[0m 3.524   \u001b[0m | \u001b[0m 0.06486 \u001b[0m | \u001b[0m 6.78    \u001b[0m | \u001b[0m 2.236   \u001b[0m | \u001b[0m 101.9   \u001b[0m | \u001b[0m 0.9591  \u001b[0m |\n",
      "| \u001b[0m 10      \u001b[0m | \u001b[0m-2.109   \u001b[0m | \u001b[0m 0.7871  \u001b[0m | \u001b[0m 3.28    \u001b[0m | \u001b[0m 0.03697 \u001b[0m | \u001b[0m 4.011   \u001b[0m | \u001b[0m 3.424   \u001b[0m | \u001b[0m 108.6   \u001b[0m | \u001b[0m 0.8487  \u001b[0m |\n",
      "| \u001b[0m 11      \u001b[0m | \u001b[0m-1.973   \u001b[0m | \u001b[0m 0.8764  \u001b[0m | \u001b[0m 1.227   \u001b[0m | \u001b[0m 0.0773  \u001b[0m | \u001b[0m 8.041   \u001b[0m | \u001b[0m 5.172   \u001b[0m | \u001b[0m 96.16   \u001b[0m | \u001b[0m 0.9887  \u001b[0m |\n",
      "| \u001b[0m 12      \u001b[0m | \u001b[0m-2.0     \u001b[0m | \u001b[0m 0.851   \u001b[0m | \u001b[0m 4.498   \u001b[0m | \u001b[0m 0.02787 \u001b[0m | \u001b[0m 7.161   \u001b[0m | \u001b[0m 6.792   \u001b[0m | \u001b[0m 149.9   \u001b[0m | \u001b[0m 0.8048  \u001b[0m |\n",
      "| \u001b[0m 13      \u001b[0m | \u001b[0m-2.686   \u001b[0m | \u001b[0m 0.8444  \u001b[0m | \u001b[0m 1.457   \u001b[0m | \u001b[0m 0.01573 \u001b[0m | \u001b[0m 6.987   \u001b[0m | \u001b[0m 1.03    \u001b[0m | \u001b[0m 126.7   \u001b[0m | \u001b[0m 0.974   \u001b[0m |\n",
      "| \u001b[0m 14      \u001b[0m | \u001b[0m-1.995   \u001b[0m | \u001b[0m 0.9651  \u001b[0m | \u001b[0m 4.772   \u001b[0m | \u001b[0m 0.07659 \u001b[0m | \u001b[0m 4.293   \u001b[0m | \u001b[0m 3.608   \u001b[0m | \u001b[0m 143.2   \u001b[0m | \u001b[0m 0.851   \u001b[0m |\n",
      "| \u001b[0m 15      \u001b[0m | \u001b[0m-2.591   \u001b[0m | \u001b[0m 0.833   \u001b[0m | \u001b[0m 3.085   \u001b[0m | \u001b[0m 0.0193  \u001b[0m | \u001b[0m 6.431   \u001b[0m | \u001b[0m 1.268   \u001b[0m | \u001b[0m 108.7   \u001b[0m | \u001b[0m 0.9504  \u001b[0m |\n",
      "| \u001b[0m 16      \u001b[0m | \u001b[0m-1.979   \u001b[0m | \u001b[0m 0.9146  \u001b[0m | \u001b[0m 4.708   \u001b[0m | \u001b[0m 0.07992 \u001b[0m | \u001b[0m 4.507   \u001b[0m | \u001b[0m 6.43    \u001b[0m | \u001b[0m 123.1   \u001b[0m | \u001b[0m 0.969   \u001b[0m |\n",
      "| \u001b[0m 17      \u001b[0m | \u001b[0m-1.974   \u001b[0m | \u001b[0m 0.9767  \u001b[0m | \u001b[0m 4.145   \u001b[0m | \u001b[0m 0.04548 \u001b[0m | \u001b[0m 7.187   \u001b[0m | \u001b[0m 3.596   \u001b[0m | \u001b[0m 131.6   \u001b[0m | \u001b[0m 0.8969  \u001b[0m |\n",
      "| \u001b[0m 18      \u001b[0m | \u001b[0m-2.262   \u001b[0m | \u001b[0m 0.7385  \u001b[0m | \u001b[0m 3.222   \u001b[0m | \u001b[0m 0.02842 \u001b[0m | \u001b[0m 8.215   \u001b[0m | \u001b[0m 1.634   \u001b[0m | \u001b[0m 90.44   \u001b[0m | \u001b[0m 0.8669  \u001b[0m |\n",
      "| \u001b[0m 19      \u001b[0m | \u001b[0m-2.044   \u001b[0m | \u001b[0m 0.9908  \u001b[0m | \u001b[0m 3.505   \u001b[0m | \u001b[0m 0.04723 \u001b[0m | \u001b[0m 3.845   \u001b[0m | \u001b[0m 1.362   \u001b[0m | \u001b[0m 133.6   \u001b[0m | \u001b[0m 0.9811  \u001b[0m |\n",
      "| \u001b[0m 20      \u001b[0m | \u001b[0m-1.972   \u001b[0m | \u001b[0m 0.7048  \u001b[0m | \u001b[0m 2.921   \u001b[0m | \u001b[0m 0.07557 \u001b[0m | \u001b[0m 5.045   \u001b[0m | \u001b[0m 4.137   \u001b[0m | \u001b[0m 138.9   \u001b[0m | \u001b[0m 0.9193  \u001b[0m |\n",
      "| \u001b[0m 21      \u001b[0m | \u001b[0m-1.977   \u001b[0m | \u001b[0m 0.9341  \u001b[0m | \u001b[0m 0.4226  \u001b[0m | \u001b[0m 0.1     \u001b[0m | \u001b[0m 5.627   \u001b[0m | \u001b[0m 4.335   \u001b[0m | \u001b[0m 99.84   \u001b[0m | \u001b[0m 0.886   \u001b[0m |\n",
      "| \u001b[0m 22      \u001b[0m | \u001b[0m-5.113   \u001b[0m | \u001b[0m 0.7     \u001b[0m | \u001b[0m 4.698   \u001b[0m | \u001b[0m 0.01    \u001b[0m | \u001b[0m 6.44    \u001b[0m | \u001b[0m 4.656   \u001b[0m | \u001b[0m 98.38   \u001b[0m | \u001b[0m 0.8     \u001b[0m |\n",
      "| \u001b[0m 23      \u001b[0m | \u001b[0m-1.967   \u001b[0m | \u001b[0m 1.0     \u001b[0m | \u001b[0m 1.293   \u001b[0m | \u001b[0m 0.1     \u001b[0m | \u001b[0m 5.643   \u001b[0m | \u001b[0m 4.024   \u001b[0m | \u001b[0m 103.0   \u001b[0m | \u001b[0m 0.948   \u001b[0m |\n",
      "| \u001b[0m 24      \u001b[0m | \u001b[0m-1.975   \u001b[0m | \u001b[0m 1.0     \u001b[0m | \u001b[0m 0.0     \u001b[0m | \u001b[0m 0.1     \u001b[0m | \u001b[0m 4.524   \u001b[0m | \u001b[0m 6.685   \u001b[0m | \u001b[0m 102.2   \u001b[0m | \u001b[0m 0.8879  \u001b[0m |\n",
      "| \u001b[0m 25      \u001b[0m | \u001b[0m-1.976   \u001b[0m | \u001b[0m 1.0     \u001b[0m | \u001b[0m 0.0     \u001b[0m | \u001b[0m 0.1     \u001b[0m | \u001b[0m 7.741   \u001b[0m | \u001b[0m 5.619   \u001b[0m | \u001b[0m 93.35   \u001b[0m | \u001b[0m 1.0     \u001b[0m |\n",
      "| \u001b[0m 26      \u001b[0m | \u001b[0m-2.048   \u001b[0m | \u001b[0m 1.0     \u001b[0m | \u001b[0m 2.48    \u001b[0m | \u001b[0m 0.1     \u001b[0m | \u001b[0m 3.0     \u001b[0m | \u001b[0m 5.713   \u001b[0m | \u001b[0m 105.0   \u001b[0m | \u001b[0m 1.0     \u001b[0m |\n",
      "| \u001b[0m 27      \u001b[0m | \u001b[0m-1.972   \u001b[0m | \u001b[0m 1.0     \u001b[0m | \u001b[0m 0.0     \u001b[0m | \u001b[0m 0.1     \u001b[0m | \u001b[0m 6.918   \u001b[0m | \u001b[0m 2.493   \u001b[0m | \u001b[0m 94.75   \u001b[0m | \u001b[0m 1.0     \u001b[0m |\n",
      "| \u001b[0m 28      \u001b[0m | \u001b[0m-1.97    \u001b[0m | \u001b[0m 1.0     \u001b[0m | \u001b[0m 0.0     \u001b[0m | \u001b[0m 0.1     \u001b[0m | \u001b[0m 7.126   \u001b[0m | \u001b[0m 1.0     \u001b[0m | \u001b[0m 101.6   \u001b[0m | \u001b[0m 1.0     \u001b[0m |\n",
      "| \u001b[95m 29      \u001b[0m | \u001b[95m-1.958   \u001b[0m | \u001b[95m 1.0     \u001b[0m | \u001b[95m 2.664   \u001b[0m | \u001b[95m 0.1     \u001b[0m | \u001b[95m 6.693   \u001b[0m | \u001b[95m 1.0     \u001b[0m | \u001b[95m 137.1   \u001b[0m | \u001b[95m 1.0     \u001b[0m |\n",
      "| \u001b[0m 30      \u001b[0m | \u001b[0m-2.465   \u001b[0m | \u001b[0m 0.7566  \u001b[0m | \u001b[0m 0.06395 \u001b[0m | \u001b[0m 0.01731 \u001b[0m | \u001b[0m 3.99    \u001b[0m | \u001b[0m 2.648   \u001b[0m | \u001b[0m 137.0   \u001b[0m | \u001b[0m 0.8574  \u001b[0m |\n",
      "| \u001b[0m 31      \u001b[0m | \u001b[0m-2.012   \u001b[0m | \u001b[0m 1.0     \u001b[0m | \u001b[0m 0.0     \u001b[0m | \u001b[0m 0.1     \u001b[0m | \u001b[0m 3.773   \u001b[0m | \u001b[0m 4.812   \u001b[0m | \u001b[0m 93.29   \u001b[0m | \u001b[0m 1.0     \u001b[0m |\n",
      "| \u001b[0m 32      \u001b[0m | \u001b[0m-1.973   \u001b[0m | \u001b[0m 1.0     \u001b[0m | \u001b[0m 5.0     \u001b[0m | \u001b[0m 0.1     \u001b[0m | \u001b[0m 8.182   \u001b[0m | \u001b[0m 3.659   \u001b[0m | \u001b[0m 137.8   \u001b[0m | \u001b[0m 1.0     \u001b[0m |\n",
      "| \u001b[0m 33      \u001b[0m | \u001b[0m-2.053   \u001b[0m | \u001b[0m 1.0     \u001b[0m | \u001b[0m 0.0     \u001b[0m | \u001b[0m 0.1     \u001b[0m | \u001b[0m 3.017   \u001b[0m | \u001b[0m 1.881   \u001b[0m | \u001b[0m 101.5   \u001b[0m | \u001b[0m 1.0     \u001b[0m |\n",
      "| \u001b[0m 34      \u001b[0m | \u001b[0m-1.986   \u001b[0m | \u001b[0m 1.0     \u001b[0m | \u001b[0m 1.62    \u001b[0m | \u001b[0m 0.1     \u001b[0m | \u001b[0m 9.098   \u001b[0m | \u001b[0m 2.775   \u001b[0m | \u001b[0m 139.7   \u001b[0m | \u001b[0m 1.0     \u001b[0m |\n",
      "| \u001b[0m 35      \u001b[0m | \u001b[0m-1.981   \u001b[0m | \u001b[0m 1.0     \u001b[0m | \u001b[0m 5.0     \u001b[0m | \u001b[0m 0.1     \u001b[0m | \u001b[0m 9.338   \u001b[0m | \u001b[0m 1.0     \u001b[0m | \u001b[0m 134.2   \u001b[0m | \u001b[0m 1.0     \u001b[0m |\n",
      "| \u001b[0m 36      \u001b[0m | \u001b[0m-2.133   \u001b[0m | \u001b[0m 0.9628  \u001b[0m | \u001b[0m 4.958   \u001b[0m | \u001b[0m 0.02138 \u001b[0m | \u001b[0m 9.821   \u001b[0m | \u001b[0m 6.033   \u001b[0m | \u001b[0m 133.8   \u001b[0m | \u001b[0m 0.8257  \u001b[0m |\n",
      "| \u001b[0m 37      \u001b[0m | \u001b[0m-1.995   \u001b[0m | \u001b[0m 1.0     \u001b[0m | \u001b[0m 1.935   \u001b[0m | \u001b[0m 0.1     \u001b[0m | \u001b[0m 9.606   \u001b[0m | \u001b[0m 2.325   \u001b[0m | \u001b[0m 103.7   \u001b[0m | \u001b[0m 1.0     \u001b[0m |\n",
      "| \u001b[0m 38      \u001b[0m | \u001b[0m-1.962   \u001b[0m | \u001b[0m 1.0     \u001b[0m | \u001b[0m 5.0     \u001b[0m | \u001b[0m 0.1     \u001b[0m | \u001b[0m 7.317   \u001b[0m | \u001b[0m 4.746   \u001b[0m | \u001b[0m 146.0   \u001b[0m | \u001b[0m 0.8     \u001b[0m |\n",
      "| \u001b[0m 39      \u001b[0m | \u001b[0m-1.983   \u001b[0m | \u001b[0m 0.7653  \u001b[0m | \u001b[0m 3.092   \u001b[0m | \u001b[0m 0.09718 \u001b[0m | \u001b[0m 4.095   \u001b[0m | \u001b[0m 6.29    \u001b[0m | \u001b[0m 146.9   \u001b[0m | \u001b[0m 0.8508  \u001b[0m |\n",
      "| \u001b[0m 40      \u001b[0m | \u001b[0m-1.973   \u001b[0m | \u001b[0m 1.0     \u001b[0m | \u001b[0m 4.448   \u001b[0m | \u001b[0m 0.1     \u001b[0m | \u001b[0m 7.702   \u001b[0m | \u001b[0m 6.502   \u001b[0m | \u001b[0m 141.6   \u001b[0m | \u001b[0m 0.8     \u001b[0m |\n",
      "=============================================================================================================\n"
     ]
    }
   ],
   "source": [
    "BO_xgb.maximize(init_points=20, n_iter=20)"
   ]
  },
  {
   "cell_type": "code",
   "execution_count": 15,
   "metadata": {
    "scrolled": true
   },
   "outputs": [
    {
     "data": {
      "text/plain": [
       "{'colsample_bytree': 1.0,\n",
       " 'gamma': 2.664391252724993,\n",
       " 'learning_rate': 0.1,\n",
       " 'max_depth': 7,\n",
       " 'min_child_weight': 1,\n",
       " 'n_estimators': 137,\n",
       " 'subsample': 1.0,\n",
       " 'n_jobs': -1,\n",
       " 'random_state': 43}"
      ]
     },
     "execution_count": 15,
     "metadata": {},
     "output_type": "execute_result"
    }
   ],
   "source": [
    "max_params = BO_xgb.max['params']\n",
    "\n",
    "max_params['n_estimators'] = int(round(max_params['n_estimators']))\n",
    "max_params['max_depth'] = int(round(max_params['max_depth']))\n",
    "max_params['min_child_weight'] = int(round(max_params['min_child_weight']))\n",
    "max_params['n_jobs'] = -1\n",
    "#max_params['objective'] = 'binary:logistic'\n",
    "max_params['random_state'] = seed\n",
    "\n",
    "max_params"
   ]
  },
  {
   "cell_type": "code",
   "execution_count": 16,
   "metadata": {},
   "outputs": [
    {
     "name": "stdout",
     "output_type": "stream",
     "text": [
      "XGB 모델의 튜닝 평균 성능:  1.958\n"
     ]
    }
   ],
   "source": [
    "xgb_reg = XGBRegressor(**max_params)\n",
    "rmse_scores = []\n",
    "for iter_count, (train_idx, valid_idx) in enumerate(kfold.split(X_train, y_train)):\n",
    "    \n",
    "    X_tra, X_val = X_train.values[train_idx],X_train.values[valid_idx]\n",
    "    y_tra, y_val = y_train.values[train_idx], y_train.values[valid_idx]\n",
    "    \n",
    "    xgb_reg.fit(X_tra, y_tra)\n",
    "    \n",
    "    pred = xgb_reg.predict(X_val)\n",
    "    rmse_score = np.sqrt(mean_squared_error(y_val, pred))\n",
    "    rmse_scores.append(rmse_score)\n",
    "print(f'XGB 모델의 튜닝 평균 성능:  {np.mean(rmse_scores):.3f}')\n",
    "BO_tuned_regs.append((xgb_reg.__class__.__name__, xgb_reg, np.mean(rmse_scores)))\n"
   ]
  },
  {
   "cell_type": "markdown",
   "metadata": {},
   "source": [
    "#### LGBMRegressor"
   ]
  },
  {
   "cell_type": "code",
   "execution_count": 17,
   "metadata": {},
   "outputs": [],
   "source": [
    "pbounds = {'learning_rate' : (0.01,0.1),\n",
    "           'n_estimators' : (1000,1300),\n",
    "           'max_depth' : (15,200),\n",
    "           'subsample' : (0.8,1),\n",
    "           'colsample_bytree' : (0.7,1.0),\n",
    "           'min_child_samples' : (20, 30), \n",
    "           'num_leaves': (20, 45)\n",
    "           }\n",
    "\n",
    "def lgb_opt(learning_rate, n_estimators, max_depth, subsample, colsample_bytree, min_child_samples, num_leaves):\n",
    "    \n",
    "    params = {\n",
    "        'learning_rate' : learning_rate,\n",
    "        'n_estimators' : int(round(n_estimators)),\n",
    "        'max_depth': int(round(max_depth)),\n",
    "        'subsample' : subsample,\n",
    "        'colsample_bytree' : colsample_bytree,\n",
    "        'min_child_samples' : int(round(min_child_samples)),\n",
    "        'num_leaves' : int(round(num_leaves)),\n",
    "#        'objective' : 'binary',\n",
    "        'random_state' : seed,\n",
    "        'n_jobs' : -1\n",
    "    }\n",
    "\n",
    "    lgb_reg = LGBMRegressor(**params)\n",
    "    \n",
    "    nmse_score = cross_val_score(lgb_reg, X_train, y_train,scoring = 'neg_mean_squared_error', cv=kfold, n_jobs=-1)\n",
    "    rmse_score = np.sqrt(-nmse_score)\n",
    "    avg_rmse = np.mean(rmse_score)\n",
    "    \n",
    "    return -avg_rmse\n",
    "\n",
    "\n",
    "BO_lgb = BayesianOptimization(f = lgb_opt, pbounds = pbounds, random_state=seed)"
   ]
  },
  {
   "cell_type": "code",
   "execution_count": 18,
   "metadata": {
    "scrolled": false
   },
   "outputs": [
    {
     "name": "stdout",
     "output_type": "stream",
     "text": [
      "|   iter    |  target   | colsam... | learni... | max_depth | min_ch... | n_esti... | num_le... | subsample |\n",
      "-------------------------------------------------------------------------------------------------------------\n",
      "| \u001b[0m 1       \u001b[0m | \u001b[0m-1.941   \u001b[0m | \u001b[0m 0.7345  \u001b[0m | \u001b[0m 0.06482 \u001b[0m | \u001b[0m 39.68   \u001b[0m | \u001b[0m 22.41   \u001b[0m | \u001b[0m 1.098e+0\u001b[0m | \u001b[0m 41.48   \u001b[0m | \u001b[0m 0.9332  \u001b[0m |\n",
      "| \u001b[95m 2       \u001b[0m | \u001b[95m-1.93    \u001b[0m | \u001b[95m 0.8623  \u001b[0m | \u001b[95m 0.01261 \u001b[0m | \u001b[95m 150.7   \u001b[0m | \u001b[95m 23.95   \u001b[0m | \u001b[95m 1.241e+0\u001b[0m | \u001b[95m 26.36   \u001b[0m | \u001b[95m 0.8114  \u001b[0m |\n",
      "| \u001b[95m 3       \u001b[0m | \u001b[95m-1.925   \u001b[0m | \u001b[95m 0.96    \u001b[0m | \u001b[95m 0.02989 \u001b[0m | \u001b[95m 89.92   \u001b[0m | \u001b[95m 23.16   \u001b[0m | \u001b[95m 1.023e+0\u001b[0m | \u001b[95m 41.08   \u001b[0m | \u001b[95m 0.9698  \u001b[0m |\n",
      "| \u001b[0m 4       \u001b[0m | \u001b[0m-1.931   \u001b[0m | \u001b[0m 0.9914  \u001b[0m | \u001b[0m 0.04468 \u001b[0m | \u001b[0m 191.6   \u001b[0m | \u001b[0m 24.46   \u001b[0m | \u001b[0m 1.201e+0\u001b[0m | \u001b[0m 22.06   \u001b[0m | \u001b[0m 0.9794  \u001b[0m |\n",
      "| \u001b[95m 5       \u001b[0m | \u001b[95m-1.92    \u001b[0m | \u001b[95m 0.7894  \u001b[0m | \u001b[95m 0.03361 \u001b[0m | \u001b[95m 15.95   \u001b[0m | \u001b[95m 25.43   \u001b[0m | \u001b[95m 1.143e+0\u001b[0m | \u001b[95m 35.91   \u001b[0m | \u001b[95m 0.9956  \u001b[0m |\n",
      "| \u001b[0m 6       \u001b[0m | \u001b[0m-1.959   \u001b[0m | \u001b[0m 0.9726  \u001b[0m | \u001b[0m 0.09191 \u001b[0m | \u001b[0m 112.2   \u001b[0m | \u001b[0m 21.04   \u001b[0m | \u001b[0m 1.054e+0\u001b[0m | \u001b[0m 43.83   \u001b[0m | \u001b[0m 0.8824  \u001b[0m |\n",
      "| \u001b[0m 7       \u001b[0m | \u001b[0m-1.944   \u001b[0m | \u001b[0m 0.9595  \u001b[0m | \u001b[0m 0.0705  \u001b[0m | \u001b[0m 131.3   \u001b[0m | \u001b[0m 22.76   \u001b[0m | \u001b[0m 1.269e+0\u001b[0m | \u001b[0m 25.17   \u001b[0m | \u001b[0m 0.8809  \u001b[0m |\n",
      "| \u001b[0m 8       \u001b[0m | \u001b[0m-1.95    \u001b[0m | \u001b[0m 0.9981  \u001b[0m | \u001b[0m 0.07622 \u001b[0m | \u001b[0m 97.34   \u001b[0m | \u001b[0m 25.61   \u001b[0m | \u001b[0m 1.123e+0\u001b[0m | \u001b[0m 38.17   \u001b[0m | \u001b[0m 0.8798  \u001b[0m |\n",
      "| \u001b[0m 9       \u001b[0m | \u001b[0m-1.94    \u001b[0m | \u001b[0m 0.901   \u001b[0m | \u001b[0m 0.07342 \u001b[0m | \u001b[0m 127.8   \u001b[0m | \u001b[0m 25.4    \u001b[0m | \u001b[0m 1.062e+0\u001b[0m | \u001b[0m 24.98   \u001b[0m | \u001b[0m 0.9591  \u001b[0m |\n",
      "| \u001b[0m 10      \u001b[0m | \u001b[0m-1.941   \u001b[0m | \u001b[0m 0.7871  \u001b[0m | \u001b[0m 0.06904 \u001b[0m | \u001b[0m 70.43   \u001b[0m | \u001b[0m 21.44   \u001b[0m | \u001b[0m 1.121e+0\u001b[0m | \u001b[0m 27.76   \u001b[0m | \u001b[0m 0.8487  \u001b[0m |\n",
      "| \u001b[0m 11      \u001b[0m | \u001b[0m-1.925   \u001b[0m | \u001b[0m 0.8764  \u001b[0m | \u001b[0m 0.03208 \u001b[0m | \u001b[0m 153.3   \u001b[0m | \u001b[0m 27.2    \u001b[0m | \u001b[0m 1.209e+0\u001b[0m | \u001b[0m 22.57   \u001b[0m | \u001b[0m 0.9887  \u001b[0m |\n",
      "| \u001b[0m 12      \u001b[0m | \u001b[0m-1.956   \u001b[0m | \u001b[0m 0.851   \u001b[0m | \u001b[0m 0.09097 \u001b[0m | \u001b[0m 51.74   \u001b[0m | \u001b[0m 25.94   \u001b[0m | \u001b[0m 1.29e+03\u001b[0m | \u001b[0m 44.97   \u001b[0m | \u001b[0m 0.8048  \u001b[0m |\n",
      "| \u001b[0m 13      \u001b[0m | \u001b[0m-1.928   \u001b[0m | \u001b[0m 0.8444  \u001b[0m | \u001b[0m 0.03623 \u001b[0m | \u001b[0m 26.79   \u001b[0m | \u001b[0m 25.7    \u001b[0m | \u001b[0m 1.002e+0\u001b[0m | \u001b[0m 35.28   \u001b[0m | \u001b[0m 0.974   \u001b[0m |\n",
      "| \u001b[0m 14      \u001b[0m | \u001b[0m-1.961   \u001b[0m | \u001b[0m 0.9651  \u001b[0m | \u001b[0m 0.09589 \u001b[0m | \u001b[0m 151.9   \u001b[0m | \u001b[0m 21.85   \u001b[0m | \u001b[0m 1.13e+03\u001b[0m | \u001b[0m 42.15   \u001b[0m | \u001b[0m 0.851   \u001b[0m |\n",
      "| \u001b[0m 15      \u001b[0m | \u001b[0m-1.935   \u001b[0m | \u001b[0m 0.833   \u001b[0m | \u001b[0m 0.06552 \u001b[0m | \u001b[0m 34.12   \u001b[0m | \u001b[0m 24.9    \u001b[0m | \u001b[0m 1.013e+0\u001b[0m | \u001b[0m 27.79   \u001b[0m | \u001b[0m 0.9504  \u001b[0m |\n",
      "| \u001b[0m 16      \u001b[0m | \u001b[0m-1.949   \u001b[0m | \u001b[0m 0.9146  \u001b[0m | \u001b[0m 0.09474 \u001b[0m | \u001b[0m 158.7   \u001b[0m | \u001b[0m 22.15   \u001b[0m | \u001b[0m 1.271e+0\u001b[0m | \u001b[0m 33.81   \u001b[0m | \u001b[0m 0.969   \u001b[0m |\n",
      "| \u001b[0m 17      \u001b[0m | \u001b[0m-1.945   \u001b[0m | \u001b[0m 0.9767  \u001b[0m | \u001b[0m 0.08461 \u001b[0m | \u001b[0m 87.93   \u001b[0m | \u001b[0m 25.98   \u001b[0m | \u001b[0m 1.13e+03\u001b[0m | \u001b[0m 37.35   \u001b[0m | \u001b[0m 0.8969  \u001b[0m |\n",
      "| \u001b[0m 18      \u001b[0m | \u001b[0m-1.935   \u001b[0m | \u001b[0m 0.7385  \u001b[0m | \u001b[0m 0.06799 \u001b[0m | \u001b[0m 52.87   \u001b[0m | \u001b[0m 27.45   \u001b[0m | \u001b[0m 1.032e+0\u001b[0m | \u001b[0m 20.18   \u001b[0m | \u001b[0m 0.8669  \u001b[0m |\n",
      "| \u001b[0m 19      \u001b[0m | \u001b[0m-1.947   \u001b[0m | \u001b[0m 0.9908  \u001b[0m | \u001b[0m 0.07309 \u001b[0m | \u001b[0m 91.53   \u001b[0m | \u001b[0m 21.21   \u001b[0m | \u001b[0m 1.018e+0\u001b[0m | \u001b[0m 38.16   \u001b[0m | \u001b[0m 0.9811  \u001b[0m |\n",
      "| \u001b[0m 20      \u001b[0m | \u001b[0m-1.933   \u001b[0m | \u001b[0m 0.7048  \u001b[0m | \u001b[0m 0.06257 \u001b[0m | \u001b[0m 149.8   \u001b[0m | \u001b[0m 22.92   \u001b[0m | \u001b[0m 1.157e+0\u001b[0m | \u001b[0m 40.37   \u001b[0m | \u001b[0m 0.9193  \u001b[0m |\n",
      "| \u001b[0m 21      \u001b[0m | \u001b[0m-1.957   \u001b[0m | \u001b[0m 0.9186  \u001b[0m | \u001b[0m 0.08259 \u001b[0m | \u001b[0m 68.01   \u001b[0m | \u001b[0m 25.68   \u001b[0m | \u001b[0m 1.195e+0\u001b[0m | \u001b[0m 44.33   \u001b[0m | \u001b[0m 0.9835  \u001b[0m |\n",
      "| \u001b[0m 22      \u001b[0m | \u001b[0m-1.927   \u001b[0m | \u001b[0m 0.7875  \u001b[0m | \u001b[0m 0.03951 \u001b[0m | \u001b[0m 61.97   \u001b[0m | \u001b[0m 23.75   \u001b[0m | \u001b[0m 1.147e+0\u001b[0m | \u001b[0m 22.23   \u001b[0m | \u001b[0m 0.9052  \u001b[0m |\n",
      "| \u001b[0m 23      \u001b[0m | \u001b[0m-1.927   \u001b[0m | \u001b[0m 0.7701  \u001b[0m | \u001b[0m 0.04452 \u001b[0m | \u001b[0m 59.72   \u001b[0m | \u001b[0m 25.87   \u001b[0m | \u001b[0m 1.13e+03\u001b[0m | \u001b[0m 39.45   \u001b[0m | \u001b[0m 0.9535  \u001b[0m |\n",
      "| \u001b[0m 24      \u001b[0m | \u001b[0m-1.938   \u001b[0m | \u001b[0m 0.7568  \u001b[0m | \u001b[0m 0.07004 \u001b[0m | \u001b[0m 193.0   \u001b[0m | \u001b[0m 28.34   \u001b[0m | \u001b[0m 1.285e+0\u001b[0m | \u001b[0m 24.16   \u001b[0m | \u001b[0m 0.9807  \u001b[0m |\n",
      "| \u001b[0m 25      \u001b[0m | \u001b[0m-1.933   \u001b[0m | \u001b[0m 0.9734  \u001b[0m | \u001b[0m 0.05069 \u001b[0m | \u001b[0m 145.6   \u001b[0m | \u001b[0m 27.35   \u001b[0m | \u001b[0m 1.231e+0\u001b[0m | \u001b[0m 31.93   \u001b[0m | \u001b[0m 0.9317  \u001b[0m |\n",
      "| \u001b[0m 26      \u001b[0m | \u001b[0m-1.924   \u001b[0m | \u001b[0m 0.7053  \u001b[0m | \u001b[0m 0.03855 \u001b[0m | \u001b[0m 97.03   \u001b[0m | \u001b[0m 28.94   \u001b[0m | \u001b[0m 1.105e+0\u001b[0m | \u001b[0m 33.69   \u001b[0m | \u001b[0m 0.8376  \u001b[0m |\n",
      "| \u001b[0m 27      \u001b[0m | \u001b[0m-1.952   \u001b[0m | \u001b[0m 0.7967  \u001b[0m | \u001b[0m 0.09291 \u001b[0m | \u001b[0m 43.08   \u001b[0m | \u001b[0m 27.93   \u001b[0m | \u001b[0m 1.064e+0\u001b[0m | \u001b[0m 24.01   \u001b[0m | \u001b[0m 0.9987  \u001b[0m |\n",
      "| \u001b[95m 28      \u001b[0m | \u001b[95m-1.919   \u001b[0m | \u001b[95m 0.7731  \u001b[0m | \u001b[95m 0.02768 \u001b[0m | \u001b[95m 102.1   \u001b[0m | \u001b[95m 20.94   \u001b[0m | \u001b[95m 1.27e+03\u001b[0m | \u001b[95m 28.07   \u001b[0m | \u001b[95m 0.8758  \u001b[0m |\n",
      "| \u001b[0m 29      \u001b[0m | \u001b[0m-1.95    \u001b[0m | \u001b[0m 0.8794  \u001b[0m | \u001b[0m 0.08181 \u001b[0m | \u001b[0m 23.66   \u001b[0m | \u001b[0m 29.24   \u001b[0m | \u001b[0m 1.067e+0\u001b[0m | \u001b[0m 42.57   \u001b[0m | \u001b[0m 0.8365  \u001b[0m |\n",
      "| \u001b[0m 30      \u001b[0m | \u001b[0m-1.928   \u001b[0m | \u001b[0m 0.7614  \u001b[0m | \u001b[0m 0.04576 \u001b[0m | \u001b[0m 137.3   \u001b[0m | \u001b[0m 25.12   \u001b[0m | \u001b[0m 1.194e+0\u001b[0m | \u001b[0m 28.6    \u001b[0m | \u001b[0m 0.8639  \u001b[0m |\n",
      "| \u001b[0m 31      \u001b[0m | \u001b[0m-1.93    \u001b[0m | \u001b[0m 0.8367  \u001b[0m | \u001b[0m 0.04751 \u001b[0m | \u001b[0m 48.8    \u001b[0m | \u001b[0m 21.96   \u001b[0m | \u001b[0m 1.005e+0\u001b[0m | \u001b[0m 22.69   \u001b[0m | \u001b[0m 0.8019  \u001b[0m |\n",
      "| \u001b[0m 32      \u001b[0m | \u001b[0m-1.924   \u001b[0m | \u001b[0m 0.7468  \u001b[0m | \u001b[0m 0.04384 \u001b[0m | \u001b[0m 72.67   \u001b[0m | \u001b[0m 24.5    \u001b[0m | \u001b[0m 1.23e+03\u001b[0m | \u001b[0m 41.32   \u001b[0m | \u001b[0m 0.9655  \u001b[0m |\n",
      "| \u001b[0m 33      \u001b[0m | \u001b[0m-1.923   \u001b[0m | \u001b[0m 0.7243  \u001b[0m | \u001b[0m 0.01496 \u001b[0m | \u001b[0m 121.7   \u001b[0m | \u001b[0m 26.34   \u001b[0m | \u001b[0m 1.289e+0\u001b[0m | \u001b[0m 27.68   \u001b[0m | \u001b[0m 0.8096  \u001b[0m |\n",
      "| \u001b[95m 34      \u001b[0m | \u001b[95m-1.917   \u001b[0m | \u001b[95m 0.7187  \u001b[0m | \u001b[95m 0.03037 \u001b[0m | \u001b[95m 26.06   \u001b[0m | \u001b[95m 29.17   \u001b[0m | \u001b[95m 1.136e+0\u001b[0m | \u001b[95m 35.71   \u001b[0m | \u001b[95m 0.8716  \u001b[0m |\n",
      "| \u001b[0m 35      \u001b[0m | \u001b[0m-1.92    \u001b[0m | \u001b[0m 0.7028  \u001b[0m | \u001b[0m 0.02833 \u001b[0m | \u001b[0m 135.0   \u001b[0m | \u001b[0m 25.09   \u001b[0m | \u001b[0m 1e+03   \u001b[0m | \u001b[0m 36.06   \u001b[0m | \u001b[0m 0.952   \u001b[0m |\n",
      "| \u001b[0m 36      \u001b[0m | \u001b[0m-1.923   \u001b[0m | \u001b[0m 0.8768  \u001b[0m | \u001b[0m 0.01956 \u001b[0m | \u001b[0m 101.2   \u001b[0m | \u001b[0m 20.3    \u001b[0m | \u001b[0m 1.299e+0\u001b[0m | \u001b[0m 28.87   \u001b[0m | \u001b[0m 0.8703  \u001b[0m |\n",
      "| \u001b[0m 37      \u001b[0m | \u001b[0m-1.93    \u001b[0m | \u001b[0m 0.9752  \u001b[0m | \u001b[0m 0.04945 \u001b[0m | \u001b[0m 89.84   \u001b[0m | \u001b[0m 28.17   \u001b[0m | \u001b[0m 1.115e+0\u001b[0m | \u001b[0m 34.29   \u001b[0m | \u001b[0m 0.9431  \u001b[0m |\n",
      "| \u001b[0m 38      \u001b[0m | \u001b[0m-1.929   \u001b[0m | \u001b[0m 0.8471  \u001b[0m | \u001b[0m 0.05483 \u001b[0m | \u001b[0m 63.08   \u001b[0m | \u001b[0m 20.5    \u001b[0m | \u001b[0m 1.259e+0\u001b[0m | \u001b[0m 23.15   \u001b[0m | \u001b[0m 0.889   \u001b[0m |\n",
      "| \u001b[0m 39      \u001b[0m | \u001b[0m-1.958   \u001b[0m | \u001b[0m 0.9152  \u001b[0m | \u001b[0m 0.09886 \u001b[0m | \u001b[0m 117.7   \u001b[0m | \u001b[0m 24.75   \u001b[0m | \u001b[0m 1.073e+0\u001b[0m | \u001b[0m 30.18   \u001b[0m | \u001b[0m 0.8426  \u001b[0m |\n",
      "| \u001b[0m 40      \u001b[0m | \u001b[0m-1.927   \u001b[0m | \u001b[0m 0.7941  \u001b[0m | \u001b[0m 0.04888 \u001b[0m | \u001b[0m 45.61   \u001b[0m | \u001b[0m 23.96   \u001b[0m | \u001b[0m 1.222e+0\u001b[0m | \u001b[0m 44.78   \u001b[0m | \u001b[0m 0.9605  \u001b[0m |\n",
      "=============================================================================================================\n"
     ]
    }
   ],
   "source": [
    "BO_lgb.maximize(init_points=20, n_iter=20)"
   ]
  },
  {
   "cell_type": "code",
   "execution_count": 19,
   "metadata": {},
   "outputs": [
    {
     "data": {
      "text/plain": [
       "{'colsample_bytree': 0.7187246604023935,\n",
       " 'learning_rate': 0.030369810079773983,\n",
       " 'max_depth': 26,\n",
       " 'min_child_samples': 29,\n",
       " 'n_estimators': 1136,\n",
       " 'num_leaves': 36,\n",
       " 'subsample': 0.871621684169645,\n",
       " 'n_jobs': -1,\n",
       " 'random_state': 43}"
      ]
     },
     "execution_count": 19,
     "metadata": {},
     "output_type": "execute_result"
    }
   ],
   "source": [
    "max_params = BO_lgb.max['params']\n",
    "\n",
    "max_params['n_estimators'] = int(round(max_params['n_estimators']))\n",
    "max_params['max_depth'] = int(round(max_params['max_depth']))\n",
    "max_params['min_child_samples'] = int(round(max_params['min_child_samples']))\n",
    "max_params['num_leaves'] = int(round(max_params['num_leaves']))\n",
    "#max_params['objective'] = 'binary'\n",
    "max_params['n_jobs'] = -1\n",
    "max_params['random_state'] = seed\n",
    "\n",
    "max_params"
   ]
  },
  {
   "cell_type": "code",
   "execution_count": 20,
   "metadata": {},
   "outputs": [
    {
     "name": "stdout",
     "output_type": "stream",
     "text": [
      "LGBM 모델의 튜닝 평균 성능:  1.917\n"
     ]
    }
   ],
   "source": [
    "lgb_reg = LGBMRegressor(**max_params)\n",
    "rmse_scores = []\n",
    "for iter_count, (train_idx, valid_idx) in enumerate(kfold.split(X_train, y_train)):\n",
    "    \n",
    "    X_tra, X_val = X_train.values[train_idx],X_train.values[valid_idx]\n",
    "    y_tra, y_val = y_train.values[train_idx], y_train.values[valid_idx]\n",
    "    \n",
    "    lgb_reg.fit(X_tra, y_tra)\n",
    "    \n",
    "    pred = lgb_reg.predict(X_val)\n",
    "    rmse_score = np.sqrt(mean_squared_error(y_val, pred))\n",
    "    rmse_scores.append(rmse_score)\n",
    "print(f'LGBM 모델의 튜닝 평균 성능:  {np.mean(rmse_scores):.3f}')\n",
    "BO_tuned_regs.append((lgb_reg.__class__.__name__, lgb_reg, np.mean(rmse_scores)))\n"
   ]
  },
  {
   "cell_type": "markdown",
   "metadata": {},
   "source": [
    "#### CatBoostRegressor"
   ]
  },
  {
   "cell_type": "code",
   "execution_count": 21,
   "metadata": {},
   "outputs": [
    {
     "name": "stdout",
     "output_type": "stream",
     "text": [
      "Cat 모델의 튜닝 평균 성능:  1.927\n"
     ]
    }
   ],
   "source": [
    "cat_reg = CatBoostRegressor(random_state=seed, verbose=False)\n",
    "rmse_scores = []\n",
    "for iter_count, (train_idx, valid_idx) in enumerate(kfold.split(X_train, y_train)):\n",
    "    \n",
    "    X_tra, X_val = X_train.values[train_idx],X_train.values[valid_idx]\n",
    "    y_tra, y_val = y_train.values[train_idx], y_train.values[valid_idx]\n",
    "    \n",
    "    cat_reg.fit(X_tra, y_tra)\n",
    "    \n",
    "    pred = cat_reg.predict(X_val)\n",
    "    rmse_score = np.sqrt(mean_squared_error(y_val, pred))\n",
    "    rmse_scores.append(rmse_score)\n",
    "print(f'Cat 모델의 튜닝 평균 성능:  {np.mean(rmse_scores):.3f}')\n",
    "BO_tuned_regs.append((cat_reg.__class__.__name__, cat_reg, np.mean(rmse_scores)))"
   ]
  },
  {
   "cell_type": "markdown",
   "metadata": {},
   "source": [
    "<font color='green'>\n",
    "\n",
    "## Ensemble\n",
    " 1. Averaging\n",
    " 2. Staking\n",
    " 3. Seed Ensemble"
   ]
  },
  {
   "cell_type": "code",
   "execution_count": 22,
   "metadata": {
    "scrolled": false
   },
   "outputs": [
    {
     "name": "stdout",
     "output_type": "stream",
     "text": [
      "[('ExtraTreesRegressor', ExtraTreesRegressor(max_depth=29, max_features=0.8744500155409993,\n",
      "                    min_samples_leaf=2, min_samples_split=11, n_estimators=401,\n",
      "                    n_jobs=-1, random_state=43), 2.067386208274592), ('XGBRegressor', XGBRegressor(base_score=0.5, booster=None, colsample_bylevel=1,\n",
      "             colsample_bynode=1, colsample_bytree=1.0, gamma=2.664391252724993,\n",
      "             gpu_id=-1, importance_type='gain', interaction_constraints=None,\n",
      "             learning_rate=0.1, max_delta_step=0, max_depth=7,\n",
      "             min_child_weight=1, missing=nan, monotone_constraints=None,\n",
      "             n_estimators=137, n_jobs=-1, num_parallel_tree=1, random_state=43,\n",
      "             reg_alpha=0, reg_lambda=1, scale_pos_weight=1, subsample=1.0,\n",
      "             tree_method=None, validate_parameters=False, verbosity=None), 1.9576715973684542), ('LGBMRegressor', LGBMRegressor(colsample_bytree=0.7187246604023935,\n",
      "              learning_rate=0.030369810079773983, max_depth=26,\n",
      "              min_child_samples=29, n_estimators=1136, num_leaves=36,\n",
      "              random_state=43, subsample=0.871621684169645), 1.916876407408613), ('CatBoostRegressor', <catboost.core.CatBoostRegressor object at 0x00000254301B0448>, 1.926994209148736)]\n"
     ]
    }
   ],
   "source": [
    "print(BO_tuned_regs)\n",
    "regs_tuned = BO_tuned_regs.copy()"
   ]
  },
  {
   "cell_type": "markdown",
   "metadata": {},
   "source": [
    "*Correlation between models*"
   ]
  },
  {
   "cell_type": "code",
   "execution_count": 23,
   "metadata": {
    "scrolled": false
   },
   "outputs": [
    {
     "data": {
      "image/png": "[encoded data removed]",
      "text/plain": [
       "<Figure size 576x432 with 2 Axes>"
      ]
     },
     "metadata": {
      "needs_background": "light"
     },
     "output_type": "display_data"
    }
   ],
   "source": [
    "pred_results = []\n",
    "for name, reg, reg_score in regs_tuned:\n",
    "    pred = reg.predict(X_valid.values)\n",
    "    name = f'{name}\\n({reg_score:.4f})'\n",
    "    pred_results.append(pd.Series(pred, name=name))\n",
    "ensemble_results = pd.concat(pred_results, axis=1)\n",
    "\n",
    "# 모형의 예측값 간의 상관관계를 보기 위해 hitmap을 도식한다.\n",
    "plt.figure(figsize = (8,6))\n",
    "g = sns.heatmap(ensemble_results.corr(), annot=True, cmap='Blues')\n",
    "g.set_title(\"Correlation between models\")\n",
    "plt.show()"
   ]
  },
  {
   "cell_type": "markdown",
   "metadata": {},
   "source": [
    "\n",
    "    \n",
    "#### 1. Averaging Ensemble"
   ]
  },
  {
   "cell_type": "code",
   "execution_count": 24,
   "metadata": {},
   "outputs": [],
   "source": [
    "# Averaging 앙상블에 사용하지 않을 모델은 주석 처리하세요.\n",
    "selected = [\n",
    "    'ExtraTreesRegressor',\n",
    "    'XGBRegressor',\n",
    "    'LGBMRegressor',\n",
    "    'CatBoostRegressor'\n",
    "]\n",
    "models_for_ensemble = [reg for reg in regs_tuned if reg[0] in selected]"
   ]
  },
  {
   "cell_type": "code",
   "execution_count": 25,
   "metadata": {},
   "outputs": [
    {
     "name": "stderr",
     "output_type": "stream",
     "text": [
      "\r",
      "  0%|                                                                                            | 0/3 [00:00<?, ?it/s]"
     ]
    },
    {
     "name": "stdout",
     "output_type": "stream",
     "text": [
      "2.0835959884000705, ExtraTreesRegressor●XGBRegressor\n",
      "2.049975060729827, ExtraTreesRegressor●LGBMRegressor\n",
      "2.02637967951057, XGBRegressor●LGBMRegressor\n",
      "2.022750014334165, XGBRegressor●CatBoostRegressor\n",
      "2.003892838651066, LGBMRegressor●CatBoostRegressor\n"
     ]
    },
    {
     "name": "stderr",
     "output_type": "stream",
     "text": [
      "\r",
      " 33%|████████████████████████████                                                        | 1/3 [00:03<00:06,  3.22s/it]"
     ]
    },
    {
     "name": "stdout",
     "output_type": "stream",
     "text": [
      "2.0037840310774517, LGBMRegressor●CatBoostRegressor\n"
     ]
    },
    {
     "name": "stderr",
     "output_type": "stream",
     "text": [
      "\r",
      " 67%|████████████████████████████████████████████████████████                            | 2/3 [00:06<00:03,  3.47s/it]"
     ]
    },
    {
     "name": "stdout",
     "output_type": "stream",
     "text": [
      "2.003754875575606, LGBMRegressor●CatBoostRegressor\n"
     ]
    },
    {
     "name": "stderr",
     "output_type": "stream",
     "text": [
      "100%|████████████████████████████████████████████████████████████████████████████████████| 3/3 [00:10<00:00,  3.43s/it]"
     ]
    },
    {
     "name": "stdout",
     "output_type": "stream",
     "text": [
      "\n",
      "p=2.56\n",
      "LGBMRegressor●CatBoostRegressor\n",
      "2.003754875575606\n"
     ]
    },
    {
     "name": "stderr",
     "output_type": "stream",
     "text": [
      "\n"
     ]
    }
   ],
   "source": [
    "min_score = 99 # 회귀이므로 가장 작은 것이 가장 좋은 것\n",
    "for p in tqdm([0, 1, 2.56]):  # p==1:산술평균, p=0:기하평균, 그 외:멱평균(주의:멱평균은 과적합 가능성이 높음)   \n",
    "    for i in range(2, len(models_for_ensemble)+1):\n",
    "        for models in combinations(models_for_ensemble, i):\n",
    "            if p == 0:\n",
    "                pred_mean = gmean([reg.predict(X_valid.values) for name, reg, _ in models], axis=0)\n",
    "            else:\n",
    "                preds = [reg.predict(X_valid.values) for name, reg, _ in models]\n",
    "                pred_mean = (np.sum(np.array(preds)**p, axis=0) / len(models))**(1/p)\n",
    "            rmse_score = np.sqrt(mean_squared_error(y_valid, pred_mean))\n",
    "            if min_score > rmse_score:\n",
    "                best_avg_ensemble = (p, models, rmse_score)\n",
    "                min_score = rmse_score\n",
    "                print(f'{min_score}, {\"●\".join([reg_name for reg_name, _, _ in models])}')\n",
    "\n",
    "p, models, rmse_score = best_avg_ensemble\n",
    "print(f'\\np={p}\\n{\"●\".join([reg_name for reg_name, _, _ in models])}\\n{rmse_score}')"
   ]
  },
  {
   "cell_type": "markdown",
   "metadata": {},
   "source": [
    "   \n",
    "#### 2. Stacking"
   ]
  },
  {
   "cell_type": "code",
   "execution_count": 26,
   "metadata": {
    "scrolled": true
   },
   "outputs": [],
   "source": [
    "# Initialize 1st level estimators\n",
    "# 사용하지 않을 모델은 주석 처리하세요.\n",
    "selected = [\n",
    "    'ExtraTreesRegressor',\n",
    "    'XGBRegressor',\n",
    "    'LGBMRegressor',\n",
    "    'CatBoostRegressor'\n",
    "]\n",
    "estimators = [(name, reg) for name, reg, _ in regs_tuned if name in selected]\n",
    "              \n",
    "# Initialize StackingTransformer\n",
    "stack = StackingTransformer(estimators, regression=True, needs_proba=False, metric=None,\n",
    "                            n_folds=4, stratified=False, shuffle=True, random_state=seed)\n",
    "\n",
    "# Fit\n",
    "stack = stack.fit(X_train, y_train)\n",
    "\n",
    "# Get your stacked features\n",
    "S_train = stack.transform(X_train)\n",
    "S_valid = stack.transform(X_valid)\n",
    "S_test = stack.transform(test) \n",
    "\n"
   ]
  },
  {
   "cell_type": "code",
   "execution_count": 27,
   "metadata": {
    "scrolled": true
   },
   "outputs": [
    {
     "name": "stdout",
     "output_type": "stream",
     "text": [
      "Meta_Voing 테스트 점수: 2.012\n"
     ]
    }
   ],
   "source": [
    "# 메타 모델로 보팅을 사용\n",
    "voting = VotingRegressor(estimators = estimators, n_jobs=-1)\n",
    "meta_model_voting = voting.fit(S_train, y_train)\n",
    "\n",
    "stacked_pred = meta_model_voting.predict(S_valid)\n",
    "rmse_score = np.sqrt(mean_squared_error(y_valid, stacked_pred))\n",
    "print(f'Meta_Voing 테스트 점수: {rmse_score:.3f}')"
   ]
  },
  {
   "cell_type": "code",
   "execution_count": 28,
   "metadata": {},
   "outputs": [
    {
     "name": "stdout",
     "output_type": "stream",
     "text": [
      "Meta_Voing 테스트 점수: 2.017\n"
     ]
    }
   ],
   "source": [
    "# Use 2nd level estimator with stacked features\n",
    "meta_lgb = LGBMRegressor(random_state=seed, n_jobs=-1).fit(S_train, y_train)\n",
    "\n",
    "meta_pred = meta_lgb.predict(S_valid)\n",
    "rmse_score = np.sqrt(mean_squared_error(y_valid, meta_pred))\n",
    "print(f'Meta_Voing 테스트 점수: {rmse_score:.3f}')\n"
   ]
  },
  {
   "cell_type": "markdown",
   "metadata": {},
   "source": [
    "   \n",
    "#### 3. Seed_Ensemble"
   ]
  },
  {
   "cell_type": "code",
   "execution_count": 41,
   "metadata": {},
   "outputs": [],
   "source": [
    "### folder_name 꼭 지정 !!\n",
    "folder_name = 'models_0720'\n",
    "model_lst = joblib.load('BO_tuned_2021-07-20.pkl')"
   ]
  },
  {
   "cell_type": "code",
   "execution_count": 42,
   "metadata": {},
   "outputs": [
    {
     "name": "stdout",
     "output_type": "stream",
     "text": [
      "SEED: 5616, 1번째 모델 RMSE 1.991\n",
      "SEED: 5616, 2번째 모델 RMSE 1.921\n",
      "SEED: 5616, 3번째 모델 RMSE 1.964\n",
      "SEED: 5616, 4번째 모델 RMSE 1.861\n",
      "LGBMRegressor_5616 모델의 튜닝 평균 성능:  1.934\n",
      "SEED: 3199, 1번째 모델 RMSE 1.925\n",
      "SEED: 3199, 2번째 모델 RMSE 1.933\n",
      "SEED: 3199, 3번째 모델 RMSE 1.933\n",
      "SEED: 3199, 4번째 모델 RMSE 1.886\n",
      "LGBMRegressor_3199 모델의 튜닝 평균 성능:  1.919\n",
      "SEED: 9538, 1번째 모델 RMSE 1.957\n",
      "SEED: 9538, 2번째 모델 RMSE 1.870\n",
      "SEED: 9538, 3번째 모델 RMSE 1.931\n",
      "SEED: 9538, 4번째 모델 RMSE 1.942\n",
      "LGBMRegressor_9538 모델의 튜닝 평균 성능:  1.925\n",
      "모델 12개 학습 완료 !\n",
      "Seed Ensemble submission 출력 완료!\n"
     ]
    }
   ],
   "source": [
    "### Get Best Score Model\n",
    "best_model = model_lst[2][1] # load LGBM\n",
    "\n",
    "if os.path.exists('models') == False:\n",
    "    os.mkdir('models')\n",
    "if os.path.exists(f'models/{folder_name}') == False:\n",
    "    os.mkdir(f'models/{folder_name}')\n",
    "\n",
    "### Set Random Seed\n",
    "lucky_seeds = [5616, 3199, 9538]\n",
    "for iter_count, seed in enumerate(lucky_seeds):\n",
    "    best_model.random_state = seed\n",
    "    new_kfold = KFold(n_splits=4, shuffle=True, random_state=seed)\n",
    "    \n",
    "    rmse_scores = []\n",
    "    for iter_count, (train_idx, valid_idx) in enumerate(new_kfold.split(X_train, y_train)):\n",
    "\n",
    "        X_tra, X_val = X_train.values[train_idx],X_train.values[valid_idx]\n",
    "        y_tra, y_val = y_train.values[train_idx], y_train.values[valid_idx]\n",
    "\n",
    "        best_model.fit(X_tra, y_tra)\n",
    "        joblib.dump(best_model, f'models/{folder_name}/{best_model.__class__.__name__}_{iter_count+1}_{seed}.pkl')\n",
    "        \n",
    "        pred = best_model.predict(X_val)\n",
    "        rmse_score = np.sqrt(mean_squared_error(y_val, pred))\n",
    "        rmse_scores.append(rmse_score)\n",
    "        print(f'SEED: {seed}, {iter_count+1}번째 모델 RMSE {rmse_score:.3f}')\n",
    "    print(f'{best_model.__class__.__name__}_{seed} 모델의 튜닝 평균 성능:  {np.mean(rmse_scores):.3f}')\n",
    "\n",
    "print(f'모델 {len(lucky_seeds) * kfold.n_splits}개 학습 완료 !')\n",
    "\n",
    "### load models & predict\n",
    "model_names = os.listdir(f'models/{folder_name}')\n",
    "model_lst = [x for x in model_names if x.endswith(\".pkl\")]\n",
    "# assert len(models_lst) == 12 # 12개 아니면 error\n",
    "# 위에꺼는 나중에\n",
    "\n",
    "\n",
    "### gmean\n",
    "preds = []\n",
    "for model_name in model_lst:\n",
    "    model = joblib.load(f'models/{folder_name}/'+model_name)\n",
    "    predict_ = model.predict(test)\n",
    "    preds.append(predict_)\n",
    "pred_mean = gmean([pred for pred in preds])\n",
    "pred_mean_expm = np.expm1(pred_mean)\n",
    "sub = pd.DataFrame({'KR_TRADE_HSCD_COUNTRYCD':pred_mean})\n",
    "sub.to_csv(f'seed_Ensemble_submission_{folder_name}.csv', index=False)\n",
    "print('Seed Ensemble submission 출력 완료!')"
   ]
  },
  {
   "cell_type": "markdown",
   "metadata": {},
   "source": [
    "<font color='green'>\n",
    "\n",
    "\n",
    "###  Submission\n",
    " - 앙상블까지 성능을 보았을때 가장 높은 성능인 LGBM으로 최종 서브미션 제출"
   ]
  },
  {
   "cell_type": "code",
   "execution_count": 44,
   "metadata": {},
   "outputs": [],
   "source": [
    "model_lst = joblib.load('BO_tuned_2021-07-20.pkl')\n",
    "best_model = model_lst[2][1] # load LGBM\n",
    "\n",
    "final_pred = best_model.predict(test.values)\n",
    "final_pred_expm = np.expm1(final_pred)\n",
    "pd.DataFrame({'KR_TRADE_HSCD_COUNTRYCD': final_pred_expm}).to_csv(f'submission.csv', index=False)"
   ]
  },
  {
   "cell_type": "code",
   "execution_count": 45,
   "metadata": {},
   "outputs": [
    {
     "data": {
      "text/html": [
       "<div>\n",
       "<style scoped>\n",
       "    .dataframe tbody tr th:only-of-type {\n",
       "        vertical-align: middle;\n",
       "    }\n",
       "\n",
       "    .dataframe tbody tr th {\n",
       "        vertical-align: top;\n",
       "    }\n",
       "\n",
       "    .dataframe thead th {\n",
       "        text-align: right;\n",
       "    }\n",
       "</style>\n",
       "<table border=\"1\" class=\"dataframe\">\n",
       "  <thead>\n",
       "    <tr style=\"text-align: right;\">\n",
       "      <th></th>\n",
       "      <th>KR_TRADE_HSCD_COUNTRYCD</th>\n",
       "    </tr>\n",
       "  </thead>\n",
       "  <tbody>\n",
       "    <tr>\n",
       "      <th>0</th>\n",
       "      <td>1.427161e+04</td>\n",
       "    </tr>\n",
       "    <tr>\n",
       "      <th>1</th>\n",
       "      <td>1.807954e+06</td>\n",
       "    </tr>\n",
       "    <tr>\n",
       "      <th>2</th>\n",
       "      <td>1.989917e+05</td>\n",
       "    </tr>\n",
       "    <tr>\n",
       "      <th>3</th>\n",
       "      <td>2.724772e+05</td>\n",
       "    </tr>\n",
       "    <tr>\n",
       "      <th>4</th>\n",
       "      <td>1.564751e+05</td>\n",
       "    </tr>\n",
       "    <tr>\n",
       "      <th>...</th>\n",
       "      <td>...</td>\n",
       "    </tr>\n",
       "    <tr>\n",
       "      <th>21184</th>\n",
       "      <td>2.499173e+06</td>\n",
       "    </tr>\n",
       "    <tr>\n",
       "      <th>21185</th>\n",
       "      <td>3.508771e+06</td>\n",
       "    </tr>\n",
       "    <tr>\n",
       "      <th>21186</th>\n",
       "      <td>8.278248e+05</td>\n",
       "    </tr>\n",
       "    <tr>\n",
       "      <th>21187</th>\n",
       "      <td>1.474260e+07</td>\n",
       "    </tr>\n",
       "    <tr>\n",
       "      <th>21188</th>\n",
       "      <td>1.922791e+08</td>\n",
       "    </tr>\n",
       "  </tbody>\n",
       "</table>\n",
       "<p>21189 rows × 1 columns</p>\n",
       "</div>"
      ],
      "text/plain": [
       "       KR_TRADE_HSCD_COUNTRYCD\n",
       "0                 1.427161e+04\n",
       "1                 1.807954e+06\n",
       "2                 1.989917e+05\n",
       "3                 2.724772e+05\n",
       "4                 1.564751e+05\n",
       "...                        ...\n",
       "21184             2.499173e+06\n",
       "21185             3.508771e+06\n",
       "21186             8.278248e+05\n",
       "21187             1.474260e+07\n",
       "21188             1.922791e+08\n",
       "\n",
       "[21189 rows x 1 columns]"
      ]
     },
     "metadata": {},
     "output_type": "display_data"
    }
   ],
   "source": [
    "display(pd.read_csv('submission.csv'))"
   ]
  },
  {
   "cell_type": "markdown",
   "metadata": {},
   "source": [
    "<font color='green'>\n",
    "\n",
    "## Save Models"
   ]
  },
  {
   "cell_type": "code",
   "execution_count": 31,
   "metadata": {},
   "outputs": [
    {
     "name": "stdout",
     "output_type": "stream",
     "text": [
      "2021-07-20\n"
     ]
    }
   ],
   "source": [
    "now = datetime.datetime.now()\n",
    "nowDate = now.strftime('%Y-%m-%d')\n",
    "print(nowDate)"
   ]
  },
  {
   "cell_type": "code",
   "execution_count": 34,
   "metadata": {},
   "outputs": [
    {
     "data": {
      "text/plain": [
       "['BO_tuned_2021-07-20.pkl']"
      ]
     },
     "execution_count": 34,
     "metadata": {},
     "output_type": "execute_result"
    }
   ],
   "source": [
    "joblib.dump(BO_tuned_regs,f'BO_tuned_{nowDate}.pkl')"
   ]
  },
  {
   "cell_type": "markdown",
   "metadata": {},
   "source": [
    "# ────────────────── End of Pipeline3/3 ──────────────────"
   ]
  }
 ],
 "metadata": {
  "kernelspec": {
   "display_name": "Python 3",
   "language": "python",
   "name": "python3"
  },
  "language_info": {
   "codemirror_mode": {
    "name": "ipython",
    "version": 3
   },
   "file_extension": ".py",
   "mimetype": "text/x-python",
   "name": "python",
   "nbconvert_exporter": "python",
   "pygments_lexer": "ipython3",
   "version": "3.7.6"
  }
 },
 "nbformat": 4,
 "nbformat_minor": 4
}
